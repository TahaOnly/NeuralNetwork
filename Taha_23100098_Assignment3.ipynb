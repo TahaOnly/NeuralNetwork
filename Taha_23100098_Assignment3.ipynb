{
 "cells": [
  {
   "cell_type": "markdown",
   "id": "bac26b33",
   "metadata": {},
   "source": [
    "### Instructions\n",
    "\n",
    "\n",
    "*   The aim of this assignment is to learn machine learning tools - Keras, Sklearn and PyTorch.\n",
    "*   You must use the Python programming language.\n",
    "*   You can add as many code/markdown cells as required.\n",
    "*   ALL cells must be run (and outputs visible) in order to get credit for your work.\n",
    "*   Please use procedural programming style and comment your code thoroughly.\n",
    "*   There are three parts of this assignment. The import statemnets for the required libraries is already given.\n",
    "*   **Carefully read the submission instructions and plagiarism policy.**\n",
    "*   Deadline to submit this assignment is 17th November 2022, 11:55pm on LMS.\n",
    "*   TAs will not be allowed to debug your code or answer how to solve a question.\n",
    "\n",
    "### Submission Instructions\n",
    "\n",
    "You should submit both your notebook file (.ipynb), python script (.py) and dataset (.csv) on LMS.\n",
    "Please name your files Name_RollNo_Assignment3. Zip these files in a folder and name\n",
    "the folder Name_RollNo_Assignment3. If you don't know how to save .ipynb as .py see\n",
    "[this](https://i.stack.imgur.com/L1rQH.png). Failing to submit any one of them might result in the reduction of marks.\n",
    "\n",
    "### Plagiarism Policy\n",
    "\n",
    "The code $\\color{red}{\\text{MUST}}$ be done independently. Any plagiarism or cheating of work from others\n",
    "or the internet will be immediately referred to the DC. If you are confused about what\n",
    "constitutes plagiarism, it is your responsibility to consult with the instructor or the TA\n",
    "in a timely manner. **PLEASE DO NOT LOOK AT ANYONE ELSE'S CODE\n",
    "NOR DISCUSS IT WITH THEM.**\n"
   ]
  },
  {
   "cell_type": "markdown",
   "id": "857325dc",
   "metadata": {},
   "source": [
    "### Introduction\n",
    "In this assignment, you will be implementing neural network for the provided dataset using Sklearn, Keras and PyTorch. A description of the problem statement is given at the start of each part. \n",
    "\n",
    "Have fun!"
   ]
  },
  {
   "cell_type": "code",
   "execution_count": 5,
   "id": "6461902f",
   "metadata": {},
   "outputs": [],
   "source": [
    "import numpy as np\n",
    "import pandas as pd\n",
    "from csv import writer\n",
    "import mlnotify\n",
    "import matplotlib.pyplot as plt\n",
    "import seaborn as sns\n",
    "import tensorflow as tf"
   ]
  },
  {
   "cell_type": "markdown",
   "id": "47ad1548",
   "metadata": {},
   "source": [
    "## Part 1: Feature Extraction\n",
    "You are given [MNIST audio dataset](https://drive.google.com/file/d/1imgBIVbgtGPV31r64UghSK3161Qfumsm/view?usp=sharing) which contains audio recordings, where speakers say digits (0 to 9) out loud. Use the following line of code to read the audio file:\n",
    "```python\n",
    "audio, sr = librosa.load(file_path, sr=16000)\n",
    "```\n",
    "You need to extract MFCC features for each audio file, the feature extraction code is give (you can read about MFCC from [here](https://link.springer.com/content/pdf/bbm:978-3-319-49220-9/1.pdf)). Length of each feature vector will be 13. You need to save all the feature vectors in a csv file with ith column representing ith feature, and each row representing an audio file. Add a 'y' column to the csv file and append the labels column at the end. Your csv file should look like this:\n",
    "\n",
    "| x1 | x2 | x3 | x4 | x5 | x6 | x7 | x8 | x9 | x10 | x11 | x12 | x13 | y |\n",
    "| --- | --- | --- | --- | --- | --- | --- | --- | --- | --- | --- | --- | --- | --- |\n",
    "| -11.347038 | -8.070062 | -0.915299 | 6.859546 | 8.754656 | -3.440287 | -5.738487 | -21.853178 | -9.859462 | 3.584948 | -2.661195\t| 1.023747 | -4.574332 | 2 |\n",
    "\n",
    "Split the dataset into train and test with 80:20 ratio. Print the train data size and test data size."
   ]
  },
  {
   "cell_type": "code",
   "execution_count": 6,
   "id": "877edb4d",
   "metadata": {},
   "outputs": [],
   "source": [
    "from glob import glob\n",
    "import python_speech_features as mfcc\n",
    "import librosa\n",
    "from sklearn.model_selection import train_test_split"
   ]
  },
  {
   "cell_type": "code",
   "execution_count": 7,
   "id": "0fef48f7",
   "metadata": {},
   "outputs": [],
   "source": [
    "def get_MFCC(audio, sr):\n",
    "    features = mfcc.mfcc(audio, sr, 0.025, 0.01, 13, appendEnergy = True)\n",
    "    return np.mean(features, axis=0)"
   ]
  },
  {
   "cell_type": "code",
   "execution_count": 8,
   "id": "3b141033",
   "metadata": {},
   "outputs": [],
   "source": [
    "import os\n",
    "root_dir = r\"D:\\u_Senior_Fall\\ML\\Assignments\\Assignment3\\data\"\n",
    "file_set = []\n",
    "\n",
    "for dir_, _, files in os.walk(root_dir):\n",
    "    for file_name in files:\n",
    "        rel_dir = os.path.relpath(dir_, root_dir)\n",
    "        rel_file = os.path.join(rel_dir, file_name)\n",
    "        file_set.append(\"data\\\\\"+rel_file)"
   ]
  },
  {
   "cell_type": "code",
   "execution_count": 611,
   "id": "a9fc7cea",
   "metadata": {},
   "outputs": [
    {
     "name": "stdout",
     "output_type": "stream",
     "text": [
      "                                     \n",
      "                                     \n",
      "    █▀▀▀▀▀█ █  ▄▄ ▀▀▄ █▄  █▀▀▀▀▀█    \n",
      "    █ ███ █ ██▄ █▄▀▄▄▀▀▄  █ ███ █    \n",
      "    █ ▀▀▀ █ ▄██ ▀█▄▀▀█▀▄▄ █ ▀▀▀ █    \n",
      "    ▀▀▀▀▀▀▀ ▀ █▄▀ █ ▀▄▀▄▀ ▀▀▀▀▀▀▀    \n",
      "    ▀▀ ▄█▀▀   ▀ ▀▄▀█▄▀▄▀ ▄▄█▄████    \n",
      "    ▀▄▀ ██▀▄ █▀ ▄▀▄█▄▄▄▄█▄█ █▄ ▄█    \n",
      "    ▄▄▄▄█ ▀▀█ ▄▀▄▄▀█▄█▄ ▀▀▄▄▄▄▄█▄    \n",
      "    ▄  ▄▄█▀ ▄ ▀█▀ ▄▀▀▄█  ▀▄▀█▀▀▄█    \n",
      "    █▀ ▄▄▄▀  ██ ▀▄▀█▄█▄▀ ▀▄▄▄▄ █▄    \n",
      "      ▀█▄ ▀ ▀▄█ ▄ ▀█▄██ ▀▄▀▀▄ ▀▄█    \n",
      "    ▀▀▀▀▀ ▀▀▄ █▀▄▄▀█▄████▀▀▀█▀  █    \n",
      "    █▀▀▀▀▀█ ▄▄▀█▀ ▀█▄▄███ ▀ █▀▀ ▀    \n",
      "    █ ███ █ ▀ ▀ ▀▄▀▄▄▀ █▀█▀▀▀▀  █    \n",
      "    █ ▀▀▀ █ ▄▀█ ▄▀ ▀██▀▀█▄   █▀██    \n",
      "    ▀▀▀▀▀▀▀ ▀▀ ▀▀▀▀ ▀▀ ▀▀▀ ▀ ▀ ▀     \n",
      "                                     \n",
      "                                     \n",
      "https://mlnotify.aporia.com/training/131442\n",
      "\n",
      "Scan the QR code or enter the url to get a notification when your training is done\n",
      "\n",
      "\n"
     ]
    }
   ],
   "source": [
    "mlnotify.start()\n",
    "first = ['x1','x2','x3','x4','x5','x6','x7','x8','x9','x10','x11','x12','x13','y']\n",
    "with open('mnist.csv', 'a', newline='') as f_object:\n",
    "    writer_object = writer(f_object)\n",
    "    writer_object.writerow(first)\n",
    "    for i in file_set:\n",
    "        audio, sr = librosa.load(i, sr=16000)\n",
    "        mean = get_MFCC(audio, sr)\n",
    "        mean = list(mean)\n",
    "        mean.append(i[8])\n",
    "        writer_object.writerow(mean)\n",
    "    f_object.close()\n",
    "mlnotify.end()"
   ]
  },
  {
   "cell_type": "code",
   "execution_count": 639,
   "id": "c4838fd2",
   "metadata": {},
   "outputs": [
    {
     "data": {
      "text/html": [
       "<div>\n",
       "<style scoped>\n",
       "    .dataframe tbody tr th:only-of-type {\n",
       "        vertical-align: middle;\n",
       "    }\n",
       "\n",
       "    .dataframe tbody tr th {\n",
       "        vertical-align: top;\n",
       "    }\n",
       "\n",
       "    .dataframe thead th {\n",
       "        text-align: right;\n",
       "    }\n",
       "</style>\n",
       "<table border=\"1\" class=\"dataframe\">\n",
       "  <thead>\n",
       "    <tr style=\"text-align: right;\">\n",
       "      <th></th>\n",
       "      <th>x1</th>\n",
       "      <th>x2</th>\n",
       "      <th>x3</th>\n",
       "      <th>x4</th>\n",
       "      <th>x5</th>\n",
       "      <th>x6</th>\n",
       "      <th>x7</th>\n",
       "      <th>x8</th>\n",
       "      <th>x9</th>\n",
       "      <th>x10</th>\n",
       "      <th>x11</th>\n",
       "      <th>x12</th>\n",
       "      <th>x13</th>\n",
       "      <th>y</th>\n",
       "    </tr>\n",
       "  </thead>\n",
       "  <tbody>\n",
       "    <tr>\n",
       "      <th>0</th>\n",
       "      <td>-10.679614</td>\n",
       "      <td>-1.126155</td>\n",
       "      <td>-2.921500</td>\n",
       "      <td>7.777644</td>\n",
       "      <td>-4.234647</td>\n",
       "      <td>-1.907632</td>\n",
       "      <td>-15.338491</td>\n",
       "      <td>-3.180810</td>\n",
       "      <td>2.313479</td>\n",
       "      <td>-10.125013</td>\n",
       "      <td>-3.455760</td>\n",
       "      <td>4.896240</td>\n",
       "      <td>-12.021362</td>\n",
       "      <td>0</td>\n",
       "    </tr>\n",
       "    <tr>\n",
       "      <th>1</th>\n",
       "      <td>-11.423947</td>\n",
       "      <td>-1.890179</td>\n",
       "      <td>-1.148646</td>\n",
       "      <td>10.610124</td>\n",
       "      <td>1.231129</td>\n",
       "      <td>-4.728646</td>\n",
       "      <td>-13.272780</td>\n",
       "      <td>1.202890</td>\n",
       "      <td>0.686237</td>\n",
       "      <td>-5.113064</td>\n",
       "      <td>2.272280</td>\n",
       "      <td>6.805703</td>\n",
       "      <td>-8.340184</td>\n",
       "      <td>0</td>\n",
       "    </tr>\n",
       "    <tr>\n",
       "      <th>2</th>\n",
       "      <td>-10.253554</td>\n",
       "      <td>-2.093445</td>\n",
       "      <td>-5.647451</td>\n",
       "      <td>6.346362</td>\n",
       "      <td>-1.961829</td>\n",
       "      <td>-1.761370</td>\n",
       "      <td>-14.366297</td>\n",
       "      <td>-6.844078</td>\n",
       "      <td>-0.555402</td>\n",
       "      <td>-5.644106</td>\n",
       "      <td>-2.729775</td>\n",
       "      <td>4.582464</td>\n",
       "      <td>-7.005110</td>\n",
       "      <td>0</td>\n",
       "    </tr>\n",
       "    <tr>\n",
       "      <th>3</th>\n",
       "      <td>-10.208797</td>\n",
       "      <td>-3.407698</td>\n",
       "      <td>-8.520919</td>\n",
       "      <td>3.171731</td>\n",
       "      <td>-1.332095</td>\n",
       "      <td>-7.890483</td>\n",
       "      <td>-19.013466</td>\n",
       "      <td>-1.750540</td>\n",
       "      <td>8.268122</td>\n",
       "      <td>-3.398884</td>\n",
       "      <td>-2.734833</td>\n",
       "      <td>8.183276</td>\n",
       "      <td>-12.306567</td>\n",
       "      <td>0</td>\n",
       "    </tr>\n",
       "    <tr>\n",
       "      <th>4</th>\n",
       "      <td>-10.512413</td>\n",
       "      <td>-4.236322</td>\n",
       "      <td>-0.662954</td>\n",
       "      <td>3.462385</td>\n",
       "      <td>-4.762044</td>\n",
       "      <td>-3.514585</td>\n",
       "      <td>-16.976979</td>\n",
       "      <td>-0.667198</td>\n",
       "      <td>1.336080</td>\n",
       "      <td>-7.423439</td>\n",
       "      <td>-2.892023</td>\n",
       "      <td>5.200130</td>\n",
       "      <td>-8.368142</td>\n",
       "      <td>0</td>\n",
       "    </tr>\n",
       "  </tbody>\n",
       "</table>\n",
       "</div>"
      ],
      "text/plain": [
       "          x1        x2        x3         x4        x5        x6         x7  \\\n",
       "0 -10.679614 -1.126155 -2.921500   7.777644 -4.234647 -1.907632 -15.338491   \n",
       "1 -11.423947 -1.890179 -1.148646  10.610124  1.231129 -4.728646 -13.272780   \n",
       "2 -10.253554 -2.093445 -5.647451   6.346362 -1.961829 -1.761370 -14.366297   \n",
       "3 -10.208797 -3.407698 -8.520919   3.171731 -1.332095 -7.890483 -19.013466   \n",
       "4 -10.512413 -4.236322 -0.662954   3.462385 -4.762044 -3.514585 -16.976979   \n",
       "\n",
       "         x8        x9        x10       x11       x12        x13  y  \n",
       "0 -3.180810  2.313479 -10.125013 -3.455760  4.896240 -12.021362  0  \n",
       "1  1.202890  0.686237  -5.113064  2.272280  6.805703  -8.340184  0  \n",
       "2 -6.844078 -0.555402  -5.644106 -2.729775  4.582464  -7.005110  0  \n",
       "3 -1.750540  8.268122  -3.398884 -2.734833  8.183276 -12.306567  0  \n",
       "4 -0.667198  1.336080  -7.423439 -2.892023  5.200130  -8.368142  0  "
      ]
     },
     "execution_count": 639,
     "metadata": {},
     "output_type": "execute_result"
    }
   ],
   "source": [
    "data = pd.read_csv(r'D:\\u_Senior_Fall\\ML\\Assignments\\Assignment3\\mnist.csv')\n",
    "data.head()"
   ]
  },
  {
   "cell_type": "code",
   "execution_count": 640,
   "id": "f968a4c6",
   "metadata": {},
   "outputs": [
    {
     "name": "stdout",
     "output_type": "stream",
     "text": [
      "(24000, 13)\n",
      "(6000, 13)\n",
      "(24000, 1)\n",
      "(6000, 1)\n"
     ]
    }
   ],
   "source": [
    "x = data.drop('y', axis=1)\n",
    "y = data[['y']]\n",
    "x_train, x_test, y_train, y_test = train_test_split(x, y, test_size=0.2, random_state=42)\n",
    "print(x_train.shape)\n",
    "print(x_test.shape)\n",
    "print(y_train.shape)\n",
    "print(y_test.shape)"
   ]
  },
  {
   "cell_type": "markdown",
   "id": "124f0ccd",
   "metadata": {},
   "source": [
    "## Part 2: Neural Network Implementation"
   ]
  },
  {
   "cell_type": "markdown",
   "id": "b1734848",
   "metadata": {},
   "source": [
    "### Task 2.1:  Scikit-learn"
   ]
  },
  {
   "cell_type": "markdown",
   "id": "95541b60",
   "metadata": {},
   "source": [
    "In this part you will use the [Scikit-learn](https://scikit-learn.org/stable/index.html) to implement the [Neural Network](https://scikit-learn.org/stable/modules/generated/sklearn.neural_network.MLPClassifier.html) and apply it to the MNIST audio dataset (provided in part 1). Split the training dataset into train and evaluation data with 90:10 ratio. Run evaluation on X_eval while training on X_train. Tune the hyperparameters to get the best possible classification accuracy. You need to report accuracy, recall, precision and F1 score on the test dataset and print the confusion matrix."
   ]
  },
  {
   "cell_type": "code",
   "execution_count": 614,
   "id": "aaa7f20d",
   "metadata": {},
   "outputs": [],
   "source": [
    "from sklearn.neural_network import MLPClassifier\n",
    "from sklearn.metrics import classification_report\n",
    "from sklearn.metrics import confusion_matrix"
   ]
  },
  {
   "cell_type": "code",
   "execution_count": 615,
   "id": "3e8e09b7",
   "metadata": {},
   "outputs": [],
   "source": [
    "x_trainn, x_eval, y_trainn, y_eval = train_test_split(x_train, y_train, test_size=0.1, random_state=42)\n",
    "x_trainn = x_trainn.to_numpy('float32')\n",
    "x_eval = x_eval.to_numpy('float32')\n",
    "y_trainn = y_trainn.to_numpy('float32')\n",
    "y_eval = y_eval.to_numpy('float32')"
   ]
  },
  {
   "cell_type": "code",
   "execution_count": 616,
   "id": "c90ac5f2",
   "metadata": {},
   "outputs": [
    {
     "name": "stderr",
     "output_type": "stream",
     "text": [
      "C:\\users\\23100\\appdata\\local\\programs\\python\\python39\\lib\\site-packages\\sklearn\\neural_network\\_multilayer_perceptron.py:1118: DataConversionWarning: A column-vector y was passed when a 1d array was expected. Please change the shape of y to (n_samples, ), for example using ravel().\n",
      "  y = column_or_1d(y, warn=True)\n"
     ]
    },
    {
     "name": "stdout",
     "output_type": "stream",
     "text": [
      "Accuracy on eval:  0.9408333333333333\n"
     ]
    },
    {
     "name": "stderr",
     "output_type": "stream",
     "text": [
      "C:\\users\\23100\\appdata\\local\\programs\\python\\python39\\lib\\site-packages\\sklearn\\neural_network\\_multilayer_perceptron.py:702: ConvergenceWarning: Stochastic Optimizer: Maximum iterations (300) reached and the optimization hasn't converged yet.\n",
      "  warnings.warn(\n"
     ]
    }
   ],
   "source": [
    "clf = MLPClassifier(random_state=1, max_iter=300).fit(x_trainn, y_trainn)\n",
    "acc = clf.score(x_eval, y_eval)\n",
    "print('Accuracy on eval: ', acc)"
   ]
  },
  {
   "cell_type": "code",
   "execution_count": 617,
   "id": "ad066595",
   "metadata": {},
   "outputs": [
    {
     "name": "stdout",
     "output_type": "stream",
     "text": [
      "Accuracy on test:  0.9361666666666667\n"
     ]
    },
    {
     "name": "stderr",
     "output_type": "stream",
     "text": [
      "C:\\users\\23100\\appdata\\local\\programs\\python\\python39\\lib\\site-packages\\sklearn\\base.py:443: UserWarning: X has feature names, but MLPClassifier was fitted without feature names\n",
      "  warnings.warn(\n"
     ]
    }
   ],
   "source": [
    "# Accuracy on test set\n",
    "acc = clf.score(x_test, y_test)\n",
    "print('Accuracy on test: ', acc)"
   ]
  },
  {
   "cell_type": "code",
   "execution_count": 618,
   "id": "a600c93f",
   "metadata": {},
   "outputs": [
    {
     "name": "stderr",
     "output_type": "stream",
     "text": [
      "C:\\users\\23100\\appdata\\local\\programs\\python\\python39\\lib\\site-packages\\sklearn\\base.py:443: UserWarning: X has feature names, but MLPClassifier was fitted without feature names\n",
      "  warnings.warn(\n"
     ]
    },
    {
     "name": "stdout",
     "output_type": "stream",
     "text": [
      "              precision    recall  f1-score   support\n",
      "\n",
      "           0       0.89      0.86      0.88       596\n",
      "           1       0.94      0.92      0.93       599\n",
      "           2       0.85      0.93      0.89       605\n",
      "           3       0.94      0.90      0.92       589\n",
      "           4       0.97      0.97      0.97       607\n",
      "           5       0.96      0.97      0.97       603\n",
      "           6       0.99      0.98      0.99       620\n",
      "           7       0.95      0.96      0.96       589\n",
      "           8       0.95      0.97      0.96       583\n",
      "           9       0.93      0.90      0.92       609\n",
      "\n",
      "    accuracy                           0.94      6000\n",
      "   macro avg       0.94      0.94      0.94      6000\n",
      "weighted avg       0.94      0.94      0.94      6000\n",
      "\n"
     ]
    },
    {
     "data": {
      "text/plain": [
       "<AxesSubplot:>"
      ]
     },
     "execution_count": 618,
     "metadata": {},
     "output_type": "execute_result"
    },
    {
     "data": {
      "image/png": "[encoded data removed]",
      "text/plain": [
       "<Figure size 648x432 with 2 Axes>"
      ]
     },
     "metadata": {
      "needs_background": "light"
     },
     "output_type": "display_data"
    }
   ],
   "source": [
    "y_pred = clf.predict(x_test)\n",
    "print(classification_report(y_test, y_pred))\n",
    "confusion = confusion_matrix(y_test, y_pred)\n",
    "f, ax = plt.subplots(figsize=(9, 6))\n",
    "sns.heatmap(confusion, annot=True, fmt=\"d\", linewidths=.5, ax=ax)"
   ]
  },
  {
   "cell_type": "markdown",
   "id": "136613c2",
   "metadata": {},
   "source": [
    "### Task 2.2: Tensorflow Keras"
   ]
  },
  {
   "cell_type": "markdown",
   "id": "4aae69f7",
   "metadata": {},
   "source": [
    "In this part you will use the [Keras](https://www.tensorflow.org/api_docs/python/tf/keras/Sequential) to implement the [Neural Network](https://machinelearningmastery.com/tutorial-first-neural-network-python-keras/) and apply it to the MNIST audio dataset (provided in part 1). Split the training dataset into train and evaluation data with 90:10 ratio. Run evaluation on X_eval while training on X_train. Tune the hyperparameters to get the best possible classification accuracy. You need to report accuracy, recall, precision and F1 score on the test dataset and print the confusion matrix."
   ]
  },
  {
   "cell_type": "code",
   "execution_count": 619,
   "id": "278f1210",
   "metadata": {},
   "outputs": [],
   "source": [
    "from tensorflow.keras.models import Sequential\n",
    "from tensorflow.keras.layers import Dense\n",
    "from tensorflow.keras import optimizers"
   ]
  },
  {
   "cell_type": "code",
   "execution_count": 620,
   "id": "6467b611",
   "metadata": {},
   "outputs": [],
   "source": [
    "# Set the parameters accordingly\n",
    "LEARNING_RATE = 1e-3\n",
    "BATCH_SIZE = 64\n",
    "EPOCHS = 150"
   ]
  },
  {
   "cell_type": "code",
   "execution_count": 621,
   "id": "bce54023",
   "metadata": {},
   "outputs": [],
   "source": [
    "model = Sequential()\n",
    "model.add(Dense(128, input_dim=13, activation='relu'))\n",
    "model.add(Dense(64, activation='relu'))\n",
    "model.add(Dense(32, activation='relu'))\n",
    "model.add(Dense(16, activation='relu'))\n",
    "model.add(Dense(10, activation='softmax'))\n",
    "model.compile(loss='sparse_categorical_crossentropy', optimizer=tf.keras.optimizers.Adam(learning_rate=LEARNING_RATE), metrics=['accuracy'])"
   ]
  },
  {
   "cell_type": "code",
   "execution_count": 622,
   "id": "33156c4a",
   "metadata": {},
   "outputs": [
    {
     "name": "stdout",
     "output_type": "stream",
     "text": [
      "                                     \n",
      "                                     \n",
      "    █▀▀▀▀▀█ ▄█ ▄▄█▄▄▄ █▀█ █▀▀▀▀▀█    \n",
      "    █ ███ █ ▄█▀█ ▄▀▄▀▄▄▄  █ ███ █    \n",
      "    █ ▀▀▀ █ ▄ █ ▀ █▄▀█▀▀▀ █ ▀▀▀ █    \n",
      "    ▀▀▀▀▀▀▀ ▀ ▀ █ ▀ █ █▄▀ ▀▀▀▀▀▀▀    \n",
      "    ██▀▀█▄▀█▀█▀ ▀▀▄ ▄▀▄▄█▀▄█▄▀ ▀▄    \n",
      "    ▄▄▀▀█▄▀  █▄█▀▀ █▀▀▀▄█▄ █ ▄ ▄     \n",
      "    ▄█▀▄█ ▀▄█▀▄▀▄▀▄ ▄█▄█▄▄▄▄▄▀▀ ▄    \n",
      "     ▄▀ ▀▄▀  ▀▀ ▄ ▀▀▄▀   ▀▀▄ ▀▀▄     \n",
      "    █ █ █▄▀▄ █▀ ▀█▄ ▄█▄▄█▄▄▄▄▀█ ▄    \n",
      "    █  ▄▄ ▀█ █ █▀ ▄█▀   ▀▄▄▄▀ ▀▄     \n",
      "    ▀ ▀ ▀ ▀ █▄█▀▄▀▄ ▄██ █▀▀▀█▄███    \n",
      "    █▀▀▀▀▀█ ▀▀  ▄▀▄█▀▀ ██ ▀ █▀▀ ▄    \n",
      "    █ ███ █ ██  ▀▀▄▀▄▀  █▀▀▀▀▄███    \n",
      "    █ ▀▀▀ █ █▀▄█▀ ▄▀  ▄▀█▄████▀█     \n",
      "    ▀▀▀▀▀▀▀ ▀ ▀▀▀  ▀▀▀     ▀  ▀      \n",
      "                                     \n",
      "                                     \n",
      "https://mlnotify.aporia.com/training/424931\n",
      "\n",
      "Scan the QR code or enter the url to get a notification when your training is done\n",
      "\n",
      "\n",
      "Epoch 1/150\n",
      "338/338 [==============================] - 1s 1ms/step - loss: 1.2915 - accuracy: 0.5495\n",
      "Epoch 2/150\n",
      "338/338 [==============================] - 0s 1ms/step - loss: 0.3608 - accuracy: 0.8698\n",
      "Epoch 3/150\n",
      "338/338 [==============================] - 0s 1ms/step - loss: 0.2903 - accuracy: 0.8938\n",
      "Epoch 4/150\n",
      "338/338 [==============================] - 0s 1ms/step - loss: 0.2472 - accuracy: 0.9098\n",
      "Epoch 5/150\n",
      "338/338 [==============================] - 0s 1ms/step - loss: 0.2270 - accuracy: 0.9152\n",
      "Epoch 6/150\n",
      "338/338 [==============================] - 0s 1ms/step - loss: 0.2049 - accuracy: 0.9249\n",
      "Epoch 7/150\n",
      "338/338 [==============================] - 0s 1ms/step - loss: 0.1788 - accuracy: 0.9347\n",
      "Epoch 8/150\n",
      "338/338 [==============================] - 0s 1ms/step - loss: 0.1705 - accuracy: 0.9390\n",
      "Epoch 9/150\n",
      "338/338 [==============================] - 0s 1ms/step - loss: 0.1582 - accuracy: 0.9435\n",
      "Epoch 10/150\n",
      "338/338 [==============================] - 0s 1ms/step - loss: 0.1486 - accuracy: 0.9454\n",
      "Epoch 11/150\n",
      "338/338 [==============================] - 0s 1ms/step - loss: 0.1416 - accuracy: 0.9486\n",
      "Epoch 12/150\n",
      "338/338 [==============================] - 0s 1ms/step - loss: 0.1289 - accuracy: 0.9552\n",
      "Epoch 13/150\n",
      "338/338 [==============================] - 0s 1ms/step - loss: 0.1224 - accuracy: 0.9560\n",
      "Epoch 14/150\n",
      "338/338 [==============================] - 0s 1ms/step - loss: 0.1124 - accuracy: 0.9593\n",
      "Epoch 15/150\n",
      "338/338 [==============================] - 0s 1ms/step - loss: 0.1188 - accuracy: 0.9558\n",
      "Epoch 16/150\n",
      "338/338 [==============================] - 0s 1ms/step - loss: 0.0996 - accuracy: 0.9645\n",
      "Epoch 17/150\n",
      "338/338 [==============================] - 0s 1ms/step - loss: 0.0960 - accuracy: 0.9656\n",
      "Epoch 18/150\n",
      "338/338 [==============================] - 0s 1ms/step - loss: 0.0949 - accuracy: 0.9644\n",
      "Epoch 19/150\n",
      "338/338 [==============================] - 0s 1ms/step - loss: 0.0856 - accuracy: 0.9703\n",
      "Epoch 20/150\n",
      "338/338 [==============================] - 0s 1ms/step - loss: 0.0814 - accuracy: 0.9698\n",
      "Epoch 21/150\n",
      "338/338 [==============================] - 0s 1ms/step - loss: 0.0882 - accuracy: 0.9687\n",
      "Epoch 22/150\n",
      "338/338 [==============================] - 0s 1ms/step - loss: 0.0792 - accuracy: 0.9724\n",
      "Epoch 23/150\n",
      "338/338 [==============================] - 0s 1ms/step - loss: 0.0762 - accuracy: 0.9724\n",
      "Epoch 24/150\n",
      "338/338 [==============================] - 0s 1ms/step - loss: 0.0695 - accuracy: 0.9745\n",
      "Epoch 25/150\n",
      "338/338 [==============================] - 0s 994us/step - loss: 0.0748 - accuracy: 0.9747\n",
      "Epoch 26/150\n",
      "338/338 [==============================] - 0s 1ms/step - loss: 0.0654 - accuracy: 0.9773\n",
      "Epoch 27/150\n",
      "338/338 [==============================] - 0s 1ms/step - loss: 0.0655 - accuracy: 0.9759\n",
      "Epoch 28/150\n",
      "338/338 [==============================] - 0s 1ms/step - loss: 0.0585 - accuracy: 0.9791\n",
      "Epoch 29/150\n",
      "338/338 [==============================] - 0s 1ms/step - loss: 0.0568 - accuracy: 0.9794\n",
      "Epoch 30/150\n",
      "338/338 [==============================] - 0s 1ms/step - loss: 0.0589 - accuracy: 0.9771\n",
      "Epoch 31/150\n",
      "338/338 [==============================] - 0s 1ms/step - loss: 0.0612 - accuracy: 0.9780\n",
      "Epoch 32/150\n",
      "338/338 [==============================] - 0s 1ms/step - loss: 0.0570 - accuracy: 0.9789\n",
      "Epoch 33/150\n",
      "338/338 [==============================] - 0s 1ms/step - loss: 0.0597 - accuracy: 0.9780\n",
      "Epoch 34/150\n",
      "338/338 [==============================] - 0s 1ms/step - loss: 0.0470 - accuracy: 0.9826\n",
      "Epoch 35/150\n",
      "338/338 [==============================] - 0s 1ms/step - loss: 0.0463 - accuracy: 0.9836\n",
      "Epoch 36/150\n",
      "338/338 [==============================] - 0s 1ms/step - loss: 0.0524 - accuracy: 0.9798\n",
      "Epoch 37/150\n",
      "338/338 [==============================] - 0s 1ms/step - loss: 0.0461 - accuracy: 0.9824\n",
      "Epoch 38/150\n",
      "338/338 [==============================] - 0s 1ms/step - loss: 0.0453 - accuracy: 0.9836\n",
      "Epoch 39/150\n",
      "338/338 [==============================] - 0s 1ms/step - loss: 0.0424 - accuracy: 0.9848\n",
      "Epoch 40/150\n",
      "338/338 [==============================] - 0s 1ms/step - loss: 0.0476 - accuracy: 0.9812\n",
      "Epoch 41/150\n",
      "338/338 [==============================] - 0s 1ms/step - loss: 0.0456 - accuracy: 0.9834: 0s - loss: 0.0492 - accura\n",
      "Epoch 42/150\n",
      "338/338 [==============================] - 0s 1ms/step - loss: 0.0457 - accuracy: 0.9828\n",
      "Epoch 43/150\n",
      "338/338 [==============================] - 0s 1ms/step - loss: 0.0326 - accuracy: 0.9882\n",
      "Epoch 44/150\n",
      "338/338 [==============================] - 0s 994us/step - loss: 0.0342 - accuracy: 0.9870\n",
      "Epoch 45/150\n",
      "338/338 [==============================] - 0s 1ms/step - loss: 0.0484 - accuracy: 0.9821\n",
      "Epoch 46/150\n",
      "338/338 [==============================] - 0s 1ms/step - loss: 0.0373 - accuracy: 0.9866\n",
      "Epoch 47/150\n",
      "338/338 [==============================] - 0s 1ms/step - loss: 0.0366 - accuracy: 0.9865\n",
      "Epoch 48/150\n",
      "338/338 [==============================] - 0s 1ms/step - loss: 0.0356 - accuracy: 0.9867\n",
      "Epoch 49/150\n",
      "338/338 [==============================] - 0s 1ms/step - loss: 0.0437 - accuracy: 0.9843\n",
      "Epoch 50/150\n",
      "338/338 [==============================] - 0s 1ms/step - loss: 0.0476 - accuracy: 0.9828\n",
      "Epoch 51/150\n",
      "338/338 [==============================] - 0s 1ms/step - loss: 0.0427 - accuracy: 0.9852\n",
      "Epoch 52/150\n",
      "338/338 [==============================] - 0s 1ms/step - loss: 0.0296 - accuracy: 0.9886\n",
      "Epoch 53/150\n",
      "338/338 [==============================] - 0s 1ms/step - loss: 0.0245 - accuracy: 0.9912\n",
      "Epoch 54/150\n",
      "338/338 [==============================] - 0s 1ms/step - loss: 0.0285 - accuracy: 0.9893\n",
      "Epoch 55/150\n",
      "338/338 [==============================] - 0s 1ms/step - loss: 0.0318 - accuracy: 0.9893\n",
      "Epoch 56/150\n",
      "338/338 [==============================] - 0s 1ms/step - loss: 0.0419 - accuracy: 0.9846\n",
      "Epoch 57/150\n",
      "338/338 [==============================] - 0s 1ms/step - loss: 0.0316 - accuracy: 0.9888\n",
      "Epoch 58/150\n",
      "338/338 [==============================] - 0s 1ms/step - loss: 0.0215 - accuracy: 0.9918\n",
      "Epoch 59/150\n",
      "338/338 [==============================] - 0s 1ms/step - loss: 0.0209 - accuracy: 0.9930\n",
      "Epoch 60/150\n",
      "338/338 [==============================] - 0s 1ms/step - loss: 0.0297 - accuracy: 0.9887\n",
      "Epoch 61/150\n",
      "338/338 [==============================] - 0s 1ms/step - loss: 0.0421 - accuracy: 0.9855\n",
      "Epoch 62/150\n",
      "338/338 [==============================] - 0s 1ms/step - loss: 0.0240 - accuracy: 0.9920\n",
      "Epoch 63/150\n",
      "338/338 [==============================] - 0s 1ms/step - loss: 0.0222 - accuracy: 0.9922\n",
      "Epoch 64/150\n",
      "338/338 [==============================] - 0s 1ms/step - loss: 0.0242 - accuracy: 0.9921\n",
      "Epoch 65/150\n",
      "338/338 [==============================] - 0s 1ms/step - loss: 0.0286 - accuracy: 0.9901\n",
      "Epoch 66/150\n",
      "338/338 [==============================] - 0s 1ms/step - loss: 0.0530 - accuracy: 0.9857\n",
      "Epoch 67/150\n",
      "338/338 [==============================] - 0s 1ms/step - loss: 0.0229 - accuracy: 0.9926\n",
      "Epoch 68/150\n",
      "338/338 [==============================] - 0s 1ms/step - loss: 0.0174 - accuracy: 0.9937\n",
      "Epoch 69/150\n",
      "338/338 [==============================] - 0s 1ms/step - loss: 0.0304 - accuracy: 0.9897\n",
      "Epoch 70/150\n",
      "338/338 [==============================] - 0s 1ms/step - loss: 0.0343 - accuracy: 0.9872\n",
      "Epoch 71/150\n",
      "338/338 [==============================] - 0s 1ms/step - loss: 0.0300 - accuracy: 0.9888\n",
      "Epoch 72/150\n",
      "338/338 [==============================] - 0s 1ms/step - loss: 0.0250 - accuracy: 0.9917\n",
      "Epoch 73/150\n",
      "338/338 [==============================] - 0s 1ms/step - loss: 0.0225 - accuracy: 0.9917\n",
      "Epoch 74/150\n",
      "338/338 [==============================] - 0s 1ms/step - loss: 0.0220 - accuracy: 0.9931\n",
      "Epoch 75/150\n",
      "338/338 [==============================] - 0s 1ms/step - loss: 0.0162 - accuracy: 0.9955\n",
      "Epoch 76/150\n",
      "338/338 [==============================] - 0s 1ms/step - loss: 0.0366 - accuracy: 0.9866\n",
      "Epoch 77/150\n",
      "338/338 [==============================] - 0s 1ms/step - loss: 0.0284 - accuracy: 0.9892\n",
      "Epoch 78/150\n",
      "338/338 [==============================] - 0s 1ms/step - loss: 0.0149 - accuracy: 0.9946\n",
      "Epoch 79/150\n",
      "338/338 [==============================] - 0s 1ms/step - loss: 0.0201 - accuracy: 0.9937\n",
      "Epoch 80/150\n",
      "338/338 [==============================] - 0s 1ms/step - loss: 0.0366 - accuracy: 0.9862\n",
      "Epoch 81/150\n",
      "338/338 [==============================] - 0s 1ms/step - loss: 0.0273 - accuracy: 0.9904\n",
      "Epoch 82/150\n",
      "338/338 [==============================] - 0s 1ms/step - loss: 0.0223 - accuracy: 0.9928\n",
      "Epoch 83/150\n",
      "338/338 [==============================] - 0s 1ms/step - loss: 0.0342 - accuracy: 0.9885\n",
      "Epoch 84/150\n",
      "338/338 [==============================] - 0s 1ms/step - loss: 0.0185 - accuracy: 0.9930\n",
      "Epoch 85/150\n",
      "338/338 [==============================] - 0s 1ms/step - loss: 0.0222 - accuracy: 0.9932\n",
      "Epoch 86/150\n",
      "338/338 [==============================] - 0s 1ms/step - loss: 0.0195 - accuracy: 0.9926\n",
      "Epoch 87/150\n",
      "338/338 [==============================] - 0s 1ms/step - loss: 0.0255 - accuracy: 0.9902\n",
      "Epoch 88/150\n",
      "338/338 [==============================] - 0s 1ms/step - loss: 0.0280 - accuracy: 0.9902\n",
      "Epoch 89/150\n",
      "338/338 [==============================] - 0s 1ms/step - loss: 0.0299 - accuracy: 0.9901\n",
      "Epoch 90/150\n",
      "338/338 [==============================] - 0s 1ms/step - loss: 0.0204 - accuracy: 0.9932\n",
      "Epoch 91/150\n",
      "338/338 [==============================] - 0s 1ms/step - loss: 0.0110 - accuracy: 0.9966\n",
      "Epoch 92/150\n",
      "338/338 [==============================] - 0s 1ms/step - loss: 0.0167 - accuracy: 0.9940\n",
      "Epoch 93/150\n",
      "338/338 [==============================] - 0s 1ms/step - loss: 0.0555 - accuracy: 0.9822\n",
      "Epoch 94/150\n",
      "338/338 [==============================] - 0s 1ms/step - loss: 0.0129 - accuracy: 0.9953\n",
      "Epoch 95/150\n",
      "338/338 [==============================] - 0s 1ms/step - loss: 0.0102 - accuracy: 0.9959\n",
      "Epoch 96/150\n",
      "338/338 [==============================] - 0s 1ms/step - loss: 0.0115 - accuracy: 0.9965\n",
      "Epoch 97/150\n",
      "338/338 [==============================] - 0s 1ms/step - loss: 0.0292 - accuracy: 0.9912\n",
      "Epoch 98/150\n",
      "338/338 [==============================] - 0s 1ms/step - loss: 0.0335 - accuracy: 0.9888\n",
      "Epoch 99/150\n",
      "338/338 [==============================] - 0s 1ms/step - loss: 0.0221 - accuracy: 0.9918\n",
      "Epoch 100/150\n",
      "338/338 [==============================] - 0s 1ms/step - loss: 0.0200 - accuracy: 0.9934\n",
      "Epoch 101/150\n",
      "338/338 [==============================] - 0s 1ms/step - loss: 0.0324 - accuracy: 0.9897\n",
      "Epoch 102/150\n",
      "338/338 [==============================] - 0s 1ms/step - loss: 0.0121 - accuracy: 0.9960\n",
      "Epoch 103/150\n",
      "338/338 [==============================] - 0s 1ms/step - loss: 0.0129 - accuracy: 0.9963\n",
      "Epoch 104/150\n",
      "338/338 [==============================] - 0s 1ms/step - loss: 0.0214 - accuracy: 0.9936\n",
      "Epoch 105/150\n",
      "338/338 [==============================] - 0s 1ms/step - loss: 0.0177 - accuracy: 0.9935\n",
      "Epoch 106/150\n",
      "338/338 [==============================] - 0s 1ms/step - loss: 0.0238 - accuracy: 0.9923\n",
      "Epoch 107/150\n",
      "338/338 [==============================] - 0s 1ms/step - loss: 0.0222 - accuracy: 0.9920\n",
      "Epoch 108/150\n",
      "338/338 [==============================] - 0s 1ms/step - loss: 0.0196 - accuracy: 0.9931\n",
      "Epoch 109/150\n",
      "338/338 [==============================] - 0s 1ms/step - loss: 0.0091 - accuracy: 0.9969\n",
      "Epoch 110/150\n",
      "338/338 [==============================] - 0s 1ms/step - loss: 0.0454 - accuracy: 0.9861\n",
      "Epoch 111/150\n",
      "338/338 [==============================] - 0s 1ms/step - loss: 0.0183 - accuracy: 0.9946\n",
      "Epoch 112/150\n",
      "338/338 [==============================] - 0s 1ms/step - loss: 0.0169 - accuracy: 0.9943\n",
      "Epoch 113/150\n",
      "338/338 [==============================] - 0s 1ms/step - loss: 0.0045 - accuracy: 0.9993\n",
      "Epoch 114/150\n",
      "338/338 [==============================] - 0s 1ms/step - loss: 0.0044 - accuracy: 0.9988\n",
      "Epoch 115/150\n",
      "338/338 [==============================] - 0s 1ms/step - loss: 0.0369 - accuracy: 0.9888\n",
      "Epoch 116/150\n",
      "338/338 [==============================] - 0s 1ms/step - loss: 0.0353 - accuracy: 0.9893\n",
      "Epoch 117/150\n",
      "338/338 [==============================] - 0s 1ms/step - loss: 0.0124 - accuracy: 0.9964\n",
      "Epoch 118/150\n",
      "338/338 [==============================] - 0s 1ms/step - loss: 0.0167 - accuracy: 0.9955\n",
      "Epoch 119/150\n",
      "338/338 [==============================] - 0s 1ms/step - loss: 0.0226 - accuracy: 0.9931\n",
      "Epoch 120/150\n",
      "338/338 [==============================] - 0s 1ms/step - loss: 0.0133 - accuracy: 0.9949\n",
      "Epoch 121/150\n",
      "338/338 [==============================] - 0s 1ms/step - loss: 0.0073 - accuracy: 0.9974\n",
      "Epoch 122/150\n",
      "338/338 [==============================] - 1s 1ms/step - loss: 0.0257 - accuracy: 0.9918\n",
      "Epoch 123/150\n",
      "338/338 [==============================] - 0s 1ms/step - loss: 0.0274 - accuracy: 0.9910\n",
      "Epoch 124/150\n",
      "338/338 [==============================] - 1s 1ms/step - loss: 0.0161 - accuracy: 0.9954\n",
      "Epoch 125/150\n",
      "338/338 [==============================] - 1s 2ms/step - loss: 0.0176 - accuracy: 0.9936\n",
      "Epoch 126/150\n",
      "338/338 [==============================] - 1s 2ms/step - loss: 0.0135 - accuracy: 0.9951\n",
      "Epoch 127/150\n",
      "338/338 [==============================] - 1s 2ms/step - loss: 0.0134 - accuracy: 0.9952\n",
      "Epoch 128/150\n",
      "338/338 [==============================] - 1s 2ms/step - loss: 0.0134 - accuracy: 0.9962\n",
      "Epoch 129/150\n",
      "338/338 [==============================] - 1s 2ms/step - loss: 0.0251 - accuracy: 0.9910\n",
      "Epoch 130/150\n",
      "338/338 [==============================] - 1s 2ms/step - loss: 0.0220 - accuracy: 0.9934\n",
      "Epoch 131/150\n",
      "338/338 [==============================] - 1s 2ms/step - loss: 0.0249 - accuracy: 0.9918\n",
      "Epoch 132/150\n",
      "338/338 [==============================] - 1s 1ms/step - loss: 0.0090 - accuracy: 0.9979\n",
      "Epoch 133/150\n",
      "338/338 [==============================] - 0s 1ms/step - loss: 0.0055 - accuracy: 0.9984\n",
      "Epoch 134/150\n",
      "338/338 [==============================] - 1s 2ms/step - loss: 0.0462 - accuracy: 0.9868\n",
      "Epoch 135/150\n",
      "338/338 [==============================] - 1s 2ms/step - loss: 0.0275 - accuracy: 0.9912\n",
      "Epoch 136/150\n",
      "338/338 [==============================] - 1s 2ms/step - loss: 0.0042 - accuracy: 0.9990\n",
      "Epoch 137/150\n",
      "338/338 [==============================] - 1s 2ms/step - loss: 0.0125 - accuracy: 0.9968\n",
      "Epoch 138/150\n",
      "338/338 [==============================] - 1s 2ms/step - loss: 0.0246 - accuracy: 0.9922\n",
      "Epoch 139/150\n",
      "338/338 [==============================] - 1s 2ms/step - loss: 0.0200 - accuracy: 0.9934\n",
      "Epoch 140/150\n",
      "338/338 [==============================] - 1s 2ms/step - loss: 0.0220 - accuracy: 0.9919\n",
      "Epoch 141/150\n",
      "338/338 [==============================] - 1s 2ms/step - loss: 0.0331 - accuracy: 0.9901\n",
      "Epoch 142/150\n",
      "338/338 [==============================] - 1s 2ms/step - loss: 0.0117 - accuracy: 0.9966\n",
      "Epoch 143/150\n",
      "338/338 [==============================] - 1s 2ms/step - loss: 0.0074 - accuracy: 0.9978\n",
      "Epoch 144/150\n",
      "338/338 [==============================] - 1s 2ms/step - loss: 0.0181 - accuracy: 0.9951\n",
      "Epoch 145/150\n",
      "338/338 [==============================] - 1s 2ms/step - loss: 0.0148 - accuracy: 0.9953\n",
      "Epoch 146/150\n",
      "338/338 [==============================] - 1s 2ms/step - loss: 0.0222 - accuracy: 0.9924\n",
      "Epoch 147/150\n",
      "338/338 [==============================] - 1s 2ms/step - loss: 0.0124 - accuracy: 0.9960\n",
      "Epoch 148/150\n",
      "338/338 [==============================] - 1s 1ms/step - loss: 0.0126 - accuracy: 0.9956\n",
      "Epoch 149/150\n",
      "338/338 [==============================] - 0s 1ms/step - loss: 0.0025 - accuracy: 0.9996\n",
      "Epoch 150/150\n",
      "338/338 [==============================] - 0s 1ms/step - loss: 0.0038 - accuracy: 0.9991\n"
     ]
    },
    {
     "data": {
      "text/plain": [
       "<tensorflow.python.keras.callbacks.History at 0x2610eebf9d0>"
      ]
     },
     "execution_count": 622,
     "metadata": {},
     "output_type": "execute_result"
    }
   ],
   "source": [
    "model.fit(x_trainn, y_trainn, epochs=EPOCHS, batch_size=BATCH_SIZE)"
   ]
  },
  {
   "cell_type": "code",
   "execution_count": 623,
   "id": "9363c78e",
   "metadata": {},
   "outputs": [
    {
     "name": "stdout",
     "output_type": "stream",
     "text": [
      "675/675 [==============================] - 1s 639us/step - loss: 0.0018 - accuracy: 0.9996\n",
      "Accuracy on train: 99.96\n"
     ]
    }
   ],
   "source": [
    "_, accuracy = model.evaluate(x_trainn, y_trainn)\n",
    "print('Accuracy on train: %.2f' % (accuracy*100))"
   ]
  },
  {
   "cell_type": "code",
   "execution_count": 624,
   "id": "acb7eb7d",
   "metadata": {},
   "outputs": [
    {
     "name": "stdout",
     "output_type": "stream",
     "text": [
      "75/75 [==============================] - 0s 703us/step - loss: 0.2956 - accuracy: 0.9567\n",
      "Accuracy on eval: 95.67\n"
     ]
    }
   ],
   "source": [
    "_, accuracy = model.evaluate(x_eval, y_eval)\n",
    "print('Accuracy on eval: %.2f' % (accuracy*100))"
   ]
  },
  {
   "cell_type": "code",
   "execution_count": 625,
   "id": "7d75abd8",
   "metadata": {},
   "outputs": [
    {
     "name": "stdout",
     "output_type": "stream",
     "text": [
      "188/188 [==============================] - 0s 996us/step - loss: 0.3077 - accuracy: 0.9548\n",
      "Accuracy on eval: 95.48\n",
      "              precision    recall  f1-score   support\n",
      "\n",
      "           0       0.92      0.90      0.91       596\n",
      "           1       0.94      0.94      0.94       599\n",
      "           2       0.93      0.92      0.92       605\n",
      "           3       0.95      0.94      0.95       589\n",
      "           4       0.97      0.97      0.97       607\n",
      "           5       0.98      0.98      0.98       603\n",
      "           6       1.00      0.99      0.99       620\n",
      "           7       0.97      0.98      0.98       589\n",
      "           8       0.95      0.98      0.97       583\n",
      "           9       0.94      0.94      0.94       609\n",
      "\n",
      "    accuracy                           0.95      6000\n",
      "   macro avg       0.95      0.95      0.95      6000\n",
      "weighted avg       0.95      0.95      0.95      6000\n",
      "\n"
     ]
    },
    {
     "data": {
      "text/plain": [
       "<AxesSubplot:>"
      ]
     },
     "execution_count": 625,
     "metadata": {},
     "output_type": "execute_result"
    },
    {
     "data": {
      "image/png": "[encoded data removed]",
      "text/plain": [
       "<Figure size 648x432 with 2 Axes>"
      ]
     },
     "metadata": {
      "needs_background": "light"
     },
     "output_type": "display_data"
    }
   ],
   "source": [
    "# Report on test\n",
    "\n",
    "y_pred = model.predict(x_test)\n",
    "predicted_categories = np.argmax(y_pred, axis = 1)\n",
    "_, accuracy = model.evaluate(x_test, y_test)\n",
    "print('Accuracy on eval: %.2f' % (accuracy*100))\n",
    "print(classification_report(y_test, predicted_categories))\n",
    "confusion = confusion_matrix(y_test, predicted_categories)\n",
    "f, ax = plt.subplots(figsize=(9, 6))\n",
    "sns.heatmap(confusion, annot=True, fmt=\"d\", linewidths=.5, ax=ax)"
   ]
  },
  {
   "cell_type": "markdown",
   "id": "611f8a4d",
   "metadata": {},
   "source": [
    "### Task 2.3: Pytorch "
   ]
  },
  {
   "cell_type": "markdown",
   "id": "457d441f",
   "metadata": {},
   "source": [
    "In this part you will use the [Keras](https://pytorch.org/docs/stable/nn.html) to implement the [Neural Network](https://medium.com/analytics-vidhya/a-simple-neural-network-classifier-using-pytorch-from-scratch-7ebb477422d2) and apply it to the MNIST audio dataset (provided in part 1). Split the training dataset into train and evaluation data with 90:10 ratio. Run evaluation on X_eval while training on X_train. You need to use DataLoader to generate batches of data. Tune the hyperparameters to get the best possible classification accuracy. You need to report training loss, training accuracy, validation loss and validation accuracy after each epoch in the following format:\n",
    "```\n",
    "Epoch 1/2\n",
    "loss: 78.67749792151153 - accuracy: 0.6759259259259259 - val_loss: 6.320814955048263 - val_accuracy: 0.7356481481481482\n",
    "Epoch 2/2\n",
    "loss: 48.70551285566762 - accuracy: 0.7901234567901234 - val_loss: 6.073690168559551 - val_accuracy: 0.7791666666666667\n",
    "```\n",
    "You need to report accuracy, recall, precision and F1 score on the test dataset and print the confusion matrix."
   ]
  },
  {
   "cell_type": "code",
   "execution_count": 626,
   "id": "604e1923",
   "metadata": {},
   "outputs": [],
   "source": [
    "import torch\n",
    "import torch.nn as nn\n",
    "from torch.utils.data import Dataset, DataLoader\n",
    "from sklearn.metrics import accuracy_score"
   ]
  },
  {
   "cell_type": "code",
   "execution_count": 627,
   "id": "bdad8b6b",
   "metadata": {},
   "outputs": [],
   "source": [
    "class Data(Dataset):\n",
    "    def __init__(self, X_train, y_train):\n",
    "        self.X = torch.from_numpy(X_train.astype(np.float32))\n",
    "        self.y = torch.from_numpy(y_train).type(torch.LongTensor)\n",
    "        self.len = self.X.shape[0]\n",
    "\n",
    "    def __getitem__(self, index):\n",
    "        return self.X[index], self.y[index]\n",
    "    \n",
    "    def __len__(self):\n",
    "        return self.len"
   ]
  },
  {
   "cell_type": "code",
   "execution_count": 628,
   "id": "ae160bf9",
   "metadata": {},
   "outputs": [],
   "source": [
    "# number of features (len of X cols)\n",
    "input_dim = 13\n",
    "# number of hidden layers\n",
    "hidden_layers = 5\n",
    "# number of classes (unique of y)\n",
    "output_dim = 10\n",
    "\n",
    "class NeuralNetwork(nn.Module):\n",
    "    def __init__(self):\n",
    "        super(NeuralNetwork, self).__init__()\n",
    "        self.linear1 = nn.Linear(input_dim, 128)\n",
    "        self.linear2 = nn.Linear(128, 64)\n",
    "        self.linear3 = nn.Linear(64, 32)\n",
    "        self.linear4 = nn.Linear(32, 16)\n",
    "        self.linear5 = nn.Linear(16, output_dim)\n",
    "\n",
    "    def forward(self, x):\n",
    "        x = torch.relu(self.linear1(x))\n",
    "        x = torch.relu(self.linear2(x))\n",
    "        x = torch.relu(self.linear3(x))\n",
    "        x = torch.relu(self.linear4(x))\n",
    "        x = self.linear5(x)\n",
    "        return x"
   ]
  },
  {
   "cell_type": "code",
   "execution_count": 629,
   "id": "c347a6c9",
   "metadata": {},
   "outputs": [],
   "source": [
    "# Set the parameters accordingly\n",
    "LEARNING_RATE = 0.01\n",
    "BATCH_SIZE = 64\n",
    "EPOCHS = 100"
   ]
  },
  {
   "cell_type": "code",
   "execution_count": 630,
   "id": "576cacdf",
   "metadata": {},
   "outputs": [],
   "source": [
    "# Set the loss function and optimizer accordingly\n",
    "model = NeuralNetwork()\n",
    "loss_function = nn.CrossEntropyLoss()\n",
    "optimizer = torch.optim.SGD(model.parameters(), lr=LEARNING_RATE)"
   ]
  },
  {
   "cell_type": "code",
   "execution_count": 631,
   "id": "129965cc",
   "metadata": {},
   "outputs": [],
   "source": [
    "traindata = Data(x_trainn, y_trainn)\n",
    "trainloader = DataLoader(traindata, batch_size=BATCH_SIZE, shuffle=True, num_workers=0)\n",
    "evaldata = Data(x_eval, y_eval)\n",
    "evalloader = DataLoader(evaldata, batch_size=BATCH_SIZE, shuffle=True, num_workers=0)"
   ]
  },
  {
   "cell_type": "code",
   "execution_count": 632,
   "id": "bbf99bf8",
   "metadata": {},
   "outputs": [
    {
     "name": "stdout",
     "output_type": "stream",
     "text": [
      "Epoch 1/100 - loss: 1.6431365750245088 - accuracy: 41.907407407407405 - val_loss: 0.8935385330727226 - val_acc: 66.29166666666667\n",
      "Epoch 2/100 - loss: 0.6541516786143624 - accuracy: 74.75462962962963 - val_loss: 0.6406106909638957 - val_acc: 75.16666666666667\n",
      "Epoch 3/100 - loss: 0.5143129560192661 - accuracy: 79.04629629629629 - val_loss: 0.4778179777295966 - val_acc: 81.08333333333333\n",
      "Epoch 4/100 - loss: 0.4691845710284611 - accuracy: 81.19907407407408 - val_loss: 0.4479337115036814 - val_acc: 82.16666666666667\n",
      "Epoch 5/100 - loss: 0.43662074455142724 - accuracy: 82.86111111111111 - val_loss: 0.41490912437438965 - val_acc: 84.25\n",
      "Epoch 6/100 - loss: 0.4079181131350218 - accuracy: 84.14814814814815 - val_loss: 0.4379996626000655 - val_acc: 83.125\n",
      "Epoch 7/100 - loss: 0.38950624674029605 - accuracy: 84.96296296296296 - val_loss: 0.38900282194739894 - val_acc: 85.125\n",
      "Epoch 8/100 - loss: 0.3695446326006094 - accuracy: 85.75 - val_loss: 0.4250012989106931 - val_acc: 84.33333333333333\n",
      "Epoch 9/100 - loss: 0.3522679698185103 - accuracy: 86.37962962962963 - val_loss: 0.3447239896968791 - val_acc: 86.66666666666667\n",
      "Epoch 10/100 - loss: 0.33712998724724413 - accuracy: 87.125 - val_loss: 0.3664260737990078 - val_acc: 85.83333333333333\n",
      "Epoch 11/100 - loss: 0.32788873512364 - accuracy: 87.47222222222223 - val_loss: 0.36581230398855713 - val_acc: 86.04166666666667\n",
      "Epoch 12/100 - loss: 0.3176717306294385 - accuracy: 87.81944444444444 - val_loss: 0.32078374177217484 - val_acc: 87.625\n",
      "Epoch 13/100 - loss: 0.30693441034245067 - accuracy: 88.33796296296296 - val_loss: 0.3544319272041321 - val_acc: 87.0\n",
      "Epoch 14/100 - loss: 0.29608271198248015 - accuracy: 88.93981481481481 - val_loss: 0.32092210140667465 - val_acc: 87.375\n",
      "Epoch 15/100 - loss: 0.28631444788984295 - accuracy: 89.20833333333333 - val_loss: 0.37269338651707296 - val_acc: 86.5\n",
      "Epoch 16/100 - loss: 0.2785029020491084 - accuracy: 89.58796296296296 - val_loss: 0.3221922238406382 - val_acc: 88.04166666666667\n",
      "Epoch 17/100 - loss: 0.26901709980513216 - accuracy: 89.97685185185185 - val_loss: 0.2875858829601815 - val_acc: 88.5\n",
      "Epoch 18/100 - loss: 0.26205279898537687 - accuracy: 90.42129629629629 - val_loss: 0.28005601838231087 - val_acc: 89.625\n",
      "Epoch 19/100 - loss: 0.2557841692803174 - accuracy: 90.47685185185185 - val_loss: 0.2764945641944283 - val_acc: 90.0\n",
      "Epoch 20/100 - loss: 0.24856601759085994 - accuracy: 90.875 - val_loss: 0.278128985903765 - val_acc: 89.83333333333333\n",
      "Epoch 21/100 - loss: 0.24404748116989108 - accuracy: 91.02777777777777 - val_loss: 0.2634247564955762 - val_acc: 90.20833333333333\n",
      "Epoch 22/100 - loss: 0.2367678360032612 - accuracy: 91.23148148148148 - val_loss: 0.24314739927649498 - val_acc: 91.375\n",
      "Epoch 23/100 - loss: 0.2315643755553742 - accuracy: 91.42129629629629 - val_loss: 0.23991756533321582 - val_acc: 91.70833333333333\n",
      "Epoch 24/100 - loss: 0.22598871152252842 - accuracy: 91.81944444444444 - val_loss: 0.2500689264975096 - val_acc: 90.75\n",
      "Epoch 25/100 - loss: 0.22035619312313182 - accuracy: 92.11574074074075 - val_loss: 0.29374517716075244 - val_acc: 89.54166666666667\n",
      "Epoch 26/100 - loss: 0.2155261932150323 - accuracy: 92.31481481481481 - val_loss: 0.22567696771339366 - val_acc: 91.91666666666667\n",
      "Epoch 27/100 - loss: 0.20980402022688346 - accuracy: 92.4074074074074 - val_loss: 0.3068656329261629 - val_acc: 88.54166666666667\n",
      "Epoch 28/100 - loss: 0.20721192109073408 - accuracy: 92.56018518518519 - val_loss: 0.24855951866821238 - val_acc: 91.08333333333333\n",
      "Epoch 29/100 - loss: 0.20062908610692742 - accuracy: 92.7175925925926 - val_loss: 0.20698850837193036 - val_acc: 92.45833333333333\n",
      "Epoch 30/100 - loss: 0.19917971387329186 - accuracy: 92.88425925925925 - val_loss: 0.21766809570161919 - val_acc: 92.45833333333333\n",
      "Epoch 31/100 - loss: 0.1932872315571153 - accuracy: 93.12037037037037 - val_loss: 0.22442472902567764 - val_acc: 92.04166666666667\n",
      "Epoch 32/100 - loss: 0.19029268587129355 - accuracy: 93.13425925925925 - val_loss: 0.2073439416524611 - val_acc: 92.41666666666667\n",
      "Epoch 33/100 - loss: 0.18562692385056667 - accuracy: 93.375 - val_loss: 0.2659820800549106 - val_acc: 90.5\n",
      "Epoch 34/100 - loss: 0.18174985397232354 - accuracy: 93.48148148148148 - val_loss: 0.2763546926802711 - val_acc: 90.20833333333333\n",
      "Epoch 35/100 - loss: 0.17706951657695882 - accuracy: 93.75 - val_loss: 0.2132115101343707 - val_acc: 92.875\n",
      "Epoch 36/100 - loss: 0.1741095684116056 - accuracy: 93.67592592592592 - val_loss: 0.2339769258703056 - val_acc: 92.16666666666667\n",
      "Epoch 37/100 - loss: 0.1726734192061001 - accuracy: 93.93981481481481 - val_loss: 0.22930878459622986 - val_acc: 91.91666666666667\n",
      "Epoch 38/100 - loss: 0.16707643293417418 - accuracy: 93.97222222222223 - val_loss: 0.222292079541244 - val_acc: 92.25\n",
      "Epoch 39/100 - loss: 0.16492566777139725 - accuracy: 94.13425925925925 - val_loss: 0.2047850702350077 - val_acc: 92.66666666666667\n",
      "Epoch 40/100 - loss: 0.16224573973632422 - accuracy: 94.31481481481481 - val_loss: 0.229902141972592 - val_acc: 92.29166666666667\n",
      "Epoch 41/100 - loss: 0.1581597376846262 - accuracy: 94.35648148148148 - val_loss: 0.2916408377258401 - val_acc: 89.66666666666667\n",
      "Epoch 42/100 - loss: 0.15620261435148983 - accuracy: 94.3425925925926 - val_loss: 0.22072908860680304 - val_acc: 92.5\n",
      "Epoch 43/100 - loss: 0.15319215288088167 - accuracy: 94.53703703703704 - val_loss: 0.20694308002528392 - val_acc: 93.25\n",
      "Epoch 44/100 - loss: 0.14776464759994892 - accuracy: 94.77314814814815 - val_loss: 0.2100034063976062 - val_acc: 92.75\n",
      "Epoch 45/100 - loss: 0.14872715234227435 - accuracy: 94.69907407407408 - val_loss: 0.19379266998485514 - val_acc: 93.08333333333333\n",
      "Epoch 46/100 - loss: 0.14318238613719242 - accuracy: 94.85185185185185 - val_loss: 0.19959397574788645 - val_acc: 93.20833333333333\n",
      "Epoch 47/100 - loss: 0.142057745458459 - accuracy: 94.9675925925926 - val_loss: 0.19798289445277892 - val_acc: 93.875\n",
      "Epoch 48/100 - loss: 0.13947561660990912 - accuracy: 94.99074074074075 - val_loss: 0.22781385657818695 - val_acc: 92.29166666666667\n",
      "Epoch 49/100 - loss: 0.1385993610725865 - accuracy: 95.05092592592592 - val_loss: 0.22802635223457687 - val_acc: 92.20833333333333\n",
      "Epoch 50/100 - loss: 0.1326846702454182 - accuracy: 95.25462962962963 - val_loss: 0.2267344650861464 - val_acc: 92.54166666666667\n",
      "Epoch 51/100 - loss: 0.1319964327436139 - accuracy: 95.38888888888889 - val_loss: 0.22678003244494138 - val_acc: 92.5\n",
      "Epoch 52/100 - loss: 0.13093276977671323 - accuracy: 95.3425925925926 - val_loss: 0.19512832929429255 - val_acc: 93.70833333333333\n",
      "Epoch 53/100 - loss: 0.12696146728614202 - accuracy: 95.41203703703704 - val_loss: 0.19475944301015452 - val_acc: 93.375\n",
      "Epoch 54/100 - loss: 0.12464094241067061 - accuracy: 95.52777777777777 - val_loss: 0.19971858729657374 - val_acc: 93.75\n",
      "Epoch 55/100 - loss: 0.12286053546676798 - accuracy: 95.56018518518519 - val_loss: 0.2167638908875616 - val_acc: 93.41666666666667\n",
      "Epoch 56/100 - loss: 0.12028454900195701 - accuracy: 95.77314814814815 - val_loss: 0.2102969853501571 - val_acc: 93.16666666666667\n",
      "Epoch 57/100 - loss: 0.11995303361902576 - accuracy: 95.67129629629629 - val_loss: 0.22259093781835154 - val_acc: 92.125\n",
      "Epoch 58/100 - loss: 0.11824259840877804 - accuracy: 95.63888888888889 - val_loss: 0.22292783111333847 - val_acc: 92.54166666666667\n",
      "Epoch 59/100 - loss: 0.11679026983215435 - accuracy: 95.73611111111111 - val_loss: 0.20424196182897217 - val_acc: 93.58333333333333\n",
      "Epoch 60/100 - loss: 0.11323801244570482 - accuracy: 95.87962962962963 - val_loss: 0.22463566594217954 - val_acc: 92.875\n",
      "Epoch 61/100 - loss: 0.1111462931121154 - accuracy: 96.06481481481481 - val_loss: 0.19185701532191352 - val_acc: 93.66666666666667\n",
      "Epoch 62/100 - loss: 0.1112048271161741 - accuracy: 95.98148148148148 - val_loss: 0.20119935185893587 - val_acc: 93.58333333333333\n",
      "Epoch 63/100 - loss: 0.10945426166807054 - accuracy: 96.1574074074074 - val_loss: 0.20595038329300128 - val_acc: 92.75\n",
      "Epoch 64/100 - loss: 0.1060029470290129 - accuracy: 96.21296296296296 - val_loss: 0.18255300628707596 - val_acc: 94.0\n",
      "Epoch 65/100 - loss: 0.10184444884422439 - accuracy: 96.42129629629629 - val_loss: 0.19711246694389142 - val_acc: 93.66666666666667\n",
      "Epoch 66/100 - loss: 0.10129687764830667 - accuracy: 96.35648148148148 - val_loss: 0.1832499139403042 - val_acc: 94.375\n"
     ]
    },
    {
     "name": "stdout",
     "output_type": "stream",
     "text": [
      "Epoch 67/100 - loss: 0.1036213079258006 - accuracy: 96.24074074074075 - val_loss: 0.3267963011013834 - val_acc: 89.875\n",
      "Epoch 68/100 - loss: 0.10032906769581977 - accuracy: 96.32407407407408 - val_loss: 0.20824894465898214 - val_acc: 93.33333333333333\n",
      "Epoch 69/100 - loss: 0.09772659710900494 - accuracy: 96.40277777777777 - val_loss: 0.21523651250294948 - val_acc: 93.16666666666667\n",
      "Epoch 70/100 - loss: 0.09625290318794505 - accuracy: 96.52777777777777 - val_loss: 0.20911241435494862 - val_acc: 93.29166666666667\n",
      "Epoch 71/100 - loss: 0.09670645441617486 - accuracy: 96.63425925925925 - val_loss: 0.1940328208239455 - val_acc: 94.16666666666667\n",
      "Epoch 72/100 - loss: 0.0937784185616531 - accuracy: 96.6574074074074 - val_loss: 0.2069647891544982 - val_acc: 93.95833333333333\n",
      "Epoch 73/100 - loss: 0.09363110147736217 - accuracy: 96.66666666666667 - val_loss: 0.1916972415423707 - val_acc: 94.08333333333333\n",
      "Epoch 74/100 - loss: 0.0905387788768527 - accuracy: 96.88425925925925 - val_loss: 0.19438735817215944 - val_acc: 94.125\n",
      "Epoch 75/100 - loss: 0.08786232105990839 - accuracy: 96.89351851851852 - val_loss: 0.1873905073459211 - val_acc: 94.41666666666667\n",
      "Epoch 76/100 - loss: 0.08839418215831445 - accuracy: 96.92592592592592 - val_loss: 0.1862208432468929 - val_acc: 94.16666666666667\n",
      "Epoch 77/100 - loss: 0.08707349345132091 - accuracy: 96.93055555555556 - val_loss: 0.1825418847269918 - val_acc: 94.20833333333333\n",
      "Epoch 78/100 - loss: 0.08701356939183405 - accuracy: 97.02314814814815 - val_loss: 0.20907444830395674 - val_acc: 93.5\n",
      "Epoch 79/100 - loss: 0.0832873247866932 - accuracy: 97.125 - val_loss: 0.17261078223390014 - val_acc: 94.79166666666667\n",
      "Epoch 80/100 - loss: 0.08297475670965818 - accuracy: 97.11574074074075 - val_loss: 0.18948210707228436 - val_acc: 94.25\n",
      "Epoch 81/100 - loss: 0.0811117281668858 - accuracy: 97.14351851851852 - val_loss: 0.2038828410992497 - val_acc: 93.91666666666667\n",
      "Epoch 82/100 - loss: 0.08188028091333321 - accuracy: 97.05092592592592 - val_loss: 0.19629780154087043 - val_acc: 94.08333333333333\n",
      "Epoch 83/100 - loss: 0.08024806912007505 - accuracy: 97.05555555555556 - val_loss: 0.24399778217469392 - val_acc: 92.875\n",
      "Epoch 84/100 - loss: 0.07924717904713291 - accuracy: 97.22685185185185 - val_loss: 0.23921622041808932 - val_acc: 92.79166666666667\n",
      "Epoch 85/100 - loss: 0.07636983341884596 - accuracy: 97.43055555555556 - val_loss: 0.19152911629919944 - val_acc: 94.125\n",
      "Epoch 86/100 - loss: 0.07409450020530872 - accuracy: 97.49537037037037 - val_loss: 0.20262271969726212 - val_acc: 93.83333333333333\n",
      "Epoch 87/100 - loss: 0.07454772425550946 - accuracy: 97.45370370370371 - val_loss: 0.227845519094875 - val_acc: 93.29166666666667\n",
      "Epoch 88/100 - loss: 0.07486196429904043 - accuracy: 97.36111111111111 - val_loss: 0.18673976863685407 - val_acc: 94.375\n",
      "Epoch 89/100 - loss: 0.07264026477326743 - accuracy: 97.39351851851852 - val_loss: 0.2117825087748076 - val_acc: 94.125\n",
      "Epoch 90/100 - loss: 0.07163232469038498 - accuracy: 97.47685185185185 - val_loss: 0.18469159805068844 - val_acc: 94.16666666666667\n",
      "Epoch 91/100 - loss: 0.06987470685168219 - accuracy: 97.56018518518519 - val_loss: 0.18970804002234026 - val_acc: 94.45833333333333\n",
      "Epoch 92/100 - loss: 0.06830487521806147 - accuracy: 97.64351851851852 - val_loss: 0.18823661194428018 - val_acc: 94.54166666666667\n",
      "Epoch 93/100 - loss: 0.06879505169847926 - accuracy: 97.47222222222223 - val_loss: 0.19259980159174456 - val_acc: 93.95833333333333\n",
      "Epoch 94/100 - loss: 0.06870356769047502 - accuracy: 97.60648148148148 - val_loss: 0.19356567912587994 - val_acc: 94.625\n",
      "Epoch 95/100 - loss: 0.06910410376689975 - accuracy: 97.58796296296296 - val_loss: 0.191958370961641 - val_acc: 94.5\n",
      "Epoch 96/100 - loss: 0.06585415971008014 - accuracy: 97.77314814814815 - val_loss: 0.21335295249560945 - val_acc: 94.29166666666667\n",
      "Epoch 97/100 - loss: 0.06444071208336252 - accuracy: 97.78703703703704 - val_loss: 0.20603031542544303 - val_acc: 94.45833333333333\n",
      "Epoch 98/100 - loss: 0.0638680944271584 - accuracy: 97.80092592592592 - val_loss: 0.20412927356205487 - val_acc: 94.58333333333333\n",
      "Epoch 99/100 - loss: 0.06617162721479565 - accuracy: 97.5925925925926 - val_loss: 0.18587125827999493 - val_acc: 94.70833333333333\n",
      "Epoch 100/100 - loss: 0.06019563366350382 - accuracy: 97.91203703703704 - val_loss: 0.1981511278274028 - val_acc: 94.5\n"
     ]
    },
    {
     "data": {
      "text/plain": [
       "[<matplotlib.lines.Line2D at 0x2610f8c6fa0>]"
      ]
     },
     "execution_count": 632,
     "metadata": {},
     "output_type": "execute_result"
    },
    {
     "data": {
      "image/png": "[encoded data removed]",
      "text/plain": [
       "<Figure size 432x288 with 1 Axes>"
      ]
     },
     "metadata": {
      "needs_background": "light"
     },
     "output_type": "display_data"
    }
   ],
   "source": [
    "import matplotlib.pyplot as plt\n",
    "\n",
    "loss_list = []\n",
    "for epoch in range(EPOCHS):\n",
    "    running_loss = 0.0\n",
    "    correct = 0.0\n",
    "    total = 0.0\n",
    "    running_loss_eval = 0.0\n",
    "    correct_eval = 0.0\n",
    "    total_eval = 0.0\n",
    "    for i, data in enumerate(trainloader, 0):\n",
    "        inputs, labels = data\n",
    "        # set optimizer to zero grad to remove previous epoch gradients\n",
    "        optimizer.zero_grad()\n",
    "        # forward propagation\n",
    "        outputs = model(inputs)\n",
    "        loss = loss_function(outputs, labels.squeeze())\n",
    "        # backward propagation\n",
    "        loss.backward()\n",
    "        # optimize\n",
    "        optimizer.step()\n",
    "        __, predicted = torch.max(outputs.data, 1)\n",
    "        predicted = predicted.unsqueeze(1)\n",
    "        total += labels.size(0)\n",
    "        correct += (predicted == labels).sum().item()\n",
    "        running_loss += loss.item()\n",
    "    with torch.no_grad():\n",
    "        for data in evalloader:\n",
    "            inputs, labels = data\n",
    "            # calculate output by running through the network\n",
    "            outputs = model(inputs)\n",
    "            loss = loss_function(outputs, labels.squeeze())\n",
    "            # get the predictions\n",
    "            __, predicted = torch.max(outputs.data, 1)\n",
    "            # update results\n",
    "            predicted = predicted.unsqueeze(1)\n",
    "            total_eval += labels.size(0)\n",
    "            correct_eval += (predicted == labels).sum().item()\n",
    "            running_loss_eval += loss.item()\n",
    "    print(f'Epoch {epoch+1}/{EPOCHS} - loss: {running_loss / len(trainloader)} - accuracy: {100 * correct / total} - val_loss: {running_loss_eval / len(evalloader)} - val_acc: {100 * correct_eval / total_eval}')\n",
    "    loss_list.append(running_loss / len(trainloader))\n",
    "plt.plot(loss_list)"
   ]
  },
  {
   "cell_type": "code",
   "execution_count": 643,
   "id": "89c7c613",
   "metadata": {},
   "outputs": [
    {
     "name": "stdout",
     "output_type": "stream",
     "text": [
      "Accuracy of the network on the 6000 test data: 94 %\n"
     ]
    }
   ],
   "source": [
    "correct, total = 0, 0\n",
    "# print(type(x_test))\n",
    "x_test = x_test.to_numpy('float32')\n",
    "y_test = y_test.to_numpy('float32')\n",
    "testdata = Data(x_test, y_test)\n",
    "testloader = DataLoader(testdata, batch_size=BATCH_SIZE, shuffle=True, num_workers=0)\n",
    "y_pred_list = []\n",
    "labels_list = []\n",
    "with torch.no_grad():\n",
    "    for data in testloader:\n",
    "        inputs, labels = data\n",
    "        outputs = model(inputs)\n",
    "        __, predicted = torch.max(outputs.data, 1)\n",
    "        predicted = predicted.unsqueeze(1)\n",
    "        total += labels.size(0)\n",
    "        correct += (predicted == labels).sum().item()\n",
    "        y_pred_list.append(predicted.cpu().numpy())\n",
    "        labels_list.append(labels.cpu().numpy())\n",
    "y_pred_list = [a.squeeze().tolist() for a in y_pred_list]\n",
    "print(f'Accuracy of the network on the {len(testdata)} test data: {100 * correct // total} %')"
   ]
  },
  {
   "cell_type": "code",
   "execution_count": 644,
   "id": "11a418f7",
   "metadata": {},
   "outputs": [
    {
     "name": "stdout",
     "output_type": "stream",
     "text": [
      "              precision    recall  f1-score   support\n",
      "\n",
      "           0       0.91      0.86      0.88       596\n",
      "           1       0.94      0.93      0.94       599\n",
      "           2       0.87      0.90      0.89       605\n",
      "           3       0.92      0.93      0.92       589\n",
      "           4       0.96      0.98      0.97       607\n",
      "           5       0.97      0.98      0.97       603\n",
      "           6       0.99      0.99      0.99       620\n",
      "           7       0.96      0.97      0.97       589\n",
      "           8       0.94      0.97      0.95       583\n",
      "           9       0.96      0.93      0.94       609\n",
      "\n",
      "    accuracy                           0.94      6000\n",
      "   macro avg       0.94      0.94      0.94      6000\n",
      "weighted avg       0.94      0.94      0.94      6000\n",
      "\n"
     ]
    },
    {
     "data": {
      "text/plain": [
       "<AxesSubplot:>"
      ]
     },
     "execution_count": 644,
     "metadata": {},
     "output_type": "execute_result"
    },
    {
     "data": {
      "image/png": "[encoded data removed]",
      "text/plain": [
       "<Figure size 648x432 with 2 Axes>"
      ]
     },
     "metadata": {
      "needs_background": "light"
     },
     "output_type": "display_data"
    }
   ],
   "source": [
    "li = []\n",
    "le = []\n",
    "for i in y_pred_list:\n",
    "    for j in i:\n",
    "        li.append(j)\n",
    "        \n",
    "for i in labels_list:\n",
    "    for j in i:\n",
    "        le.append(j)\n",
    "li = np.asarray(li)\n",
    "le = np.asarray(le)\n",
    "print(classification_report(le, li))\n",
    "confusion = confusion_matrix(le, li)\n",
    "f, ax = plt.subplots(figsize=(9, 6))\n",
    "sns.heatmap(confusion, annot=True, fmt=\"d\", linewidths=.5, ax=ax)"
   ]
  },
  {
   "cell_type": "markdown",
   "id": "6c1a74d8",
   "metadata": {},
   "source": [
    "## Part 3: Theoretical"
   ]
  },
  {
   "cell_type": "markdown",
   "id": "055cffc2",
   "metadata": {},
   "source": [
    "**Q1**: Compare the tools you used above. State the advantages and disadvantages.\n",
    "\n",
    "**Q2**: What is the purpose of the data loader in PyTorch?"
   ]
  },
  {
   "cell_type": "markdown",
   "id": "e2a3a8d4",
   "metadata": {},
   "source": [
    "Q1: Keras provides relatively higher accuracy than its counterparts. Pytorch provides higher cutomization than Keras and Sklearn since Engineers can define the properties of every layer separately. However, Sklearn is easiest annd most intuitive since it optimizes the NN without much input from the Engineer. \n",
    "\n",
    "Q2. Data loader is a way to load dataset into a variable and run the NN on the dataset in batches. Instead of sequentially running NN on the batches of dataset, data loader does that with a single command."
   ]
  }
 ],
 "metadata": {
  "kernelspec": {
   "display_name": "Python 3",
   "language": "python",
   "name": "python3"
  },
  "language_info": {
   "codemirror_mode": {
    "name": "ipython",
    "version": 3
   },
   "file_extension": ".py",
   "mimetype": "text/x-python",
   "name": "python",
   "nbconvert_exporter": "python",
   "pygments_lexer": "ipython3",
   "version": "3.9.1"
  },
  "vscode": {
   "interpreter": {
    "hash": "fc69cba85638b21cec79b2a535646ef5e6b9cd502f85217195fc07a523dc90a7"
   }
  }
 },
 "nbformat": 4,
 "nbformat_minor": 5
}
